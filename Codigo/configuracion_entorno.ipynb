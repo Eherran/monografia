{
  "cells": [
    {
      "cell_type": "markdown",
      "metadata": {
        "id": "pQYgE10jaxK7"
      },
      "source": [
        "##Instalación de paquetes Arima"
      ]
    },
    {
      "cell_type": "code",
      "execution_count": null,
      "metadata": {
        "colab": {
          "base_uri": "https://localhost:8080/"
        },
        "id": "j4sj3i5NawQi",
        "outputId": "8644cb8c-41f3-44b5-d645-7cee611b4e99"
      },
      "outputs": [
        {
          "output_type": "stream",
          "name": "stdout",
          "text": [
            "Collecting pmdarima\n",
            "  Downloading pmdarima-1.8.5-cp37-cp37m-manylinux_2_17_x86_64.manylinux2014_x86_64.manylinux_2_24_x86_64.whl (1.4 MB)\n",
            "\u001b[?25l\r\u001b[K     |▎                               | 10 kB 19.9 MB/s eta 0:00:01\r\u001b[K     |▌                               | 20 kB 26.4 MB/s eta 0:00:01\r\u001b[K     |▊                               | 30 kB 30.1 MB/s eta 0:00:01\r\u001b[K     |█                               | 40 kB 15.4 MB/s eta 0:00:01\r\u001b[K     |█▏                              | 51 kB 12.0 MB/s eta 0:00:01\r\u001b[K     |█▍                              | 61 kB 13.9 MB/s eta 0:00:01\r\u001b[K     |█▋                              | 71 kB 13.0 MB/s eta 0:00:01\r\u001b[K     |██                              | 81 kB 14.2 MB/s eta 0:00:01\r\u001b[K     |██▏                             | 92 kB 15.6 MB/s eta 0:00:01\r\u001b[K     |██▍                             | 102 kB 13.8 MB/s eta 0:00:01\r\u001b[K     |██▋                             | 112 kB 13.8 MB/s eta 0:00:01\r\u001b[K     |██▉                             | 122 kB 13.8 MB/s eta 0:00:01\r\u001b[K     |███                             | 133 kB 13.8 MB/s eta 0:00:01\r\u001b[K     |███▎                            | 143 kB 13.8 MB/s eta 0:00:01\r\u001b[K     |███▌                            | 153 kB 13.8 MB/s eta 0:00:01\r\u001b[K     |███▉                            | 163 kB 13.8 MB/s eta 0:00:01\r\u001b[K     |████                            | 174 kB 13.8 MB/s eta 0:00:01\r\u001b[K     |████▎                           | 184 kB 13.8 MB/s eta 0:00:01\r\u001b[K     |████▌                           | 194 kB 13.8 MB/s eta 0:00:01\r\u001b[K     |████▊                           | 204 kB 13.8 MB/s eta 0:00:01\r\u001b[K     |█████                           | 215 kB 13.8 MB/s eta 0:00:01\r\u001b[K     |█████▏                          | 225 kB 13.8 MB/s eta 0:00:01\r\u001b[K     |█████▍                          | 235 kB 13.8 MB/s eta 0:00:01\r\u001b[K     |█████▊                          | 245 kB 13.8 MB/s eta 0:00:01\r\u001b[K     |██████                          | 256 kB 13.8 MB/s eta 0:00:01\r\u001b[K     |██████▏                         | 266 kB 13.8 MB/s eta 0:00:01\r\u001b[K     |██████▍                         | 276 kB 13.8 MB/s eta 0:00:01\r\u001b[K     |██████▋                         | 286 kB 13.8 MB/s eta 0:00:01\r\u001b[K     |██████▉                         | 296 kB 13.8 MB/s eta 0:00:01\r\u001b[K     |███████                         | 307 kB 13.8 MB/s eta 0:00:01\r\u001b[K     |███████▎                        | 317 kB 13.8 MB/s eta 0:00:01\r\u001b[K     |███████▋                        | 327 kB 13.8 MB/s eta 0:00:01\r\u001b[K     |███████▉                        | 337 kB 13.8 MB/s eta 0:00:01\r\u001b[K     |████████                        | 348 kB 13.8 MB/s eta 0:00:01\r\u001b[K     |████████▎                       | 358 kB 13.8 MB/s eta 0:00:01\r\u001b[K     |████████▌                       | 368 kB 13.8 MB/s eta 0:00:01\r\u001b[K     |████████▊                       | 378 kB 13.8 MB/s eta 0:00:01\r\u001b[K     |█████████                       | 389 kB 13.8 MB/s eta 0:00:01\r\u001b[K     |█████████▎                      | 399 kB 13.8 MB/s eta 0:00:01\r\u001b[K     |█████████▌                      | 409 kB 13.8 MB/s eta 0:00:01\r\u001b[K     |█████████▊                      | 419 kB 13.8 MB/s eta 0:00:01\r\u001b[K     |██████████                      | 430 kB 13.8 MB/s eta 0:00:01\r\u001b[K     |██████████▏                     | 440 kB 13.8 MB/s eta 0:00:01\r\u001b[K     |██████████▍                     | 450 kB 13.8 MB/s eta 0:00:01\r\u001b[K     |██████████▋                     | 460 kB 13.8 MB/s eta 0:00:01\r\u001b[K     |██████████▉                     | 471 kB 13.8 MB/s eta 0:00:01\r\u001b[K     |███████████▏                    | 481 kB 13.8 MB/s eta 0:00:01\r\u001b[K     |███████████▍                    | 491 kB 13.8 MB/s eta 0:00:01\r\u001b[K     |███████████▋                    | 501 kB 13.8 MB/s eta 0:00:01\r\u001b[K     |███████████▉                    | 512 kB 13.8 MB/s eta 0:00:01\r\u001b[K     |████████████                    | 522 kB 13.8 MB/s eta 0:00:01\r\u001b[K     |████████████▎                   | 532 kB 13.8 MB/s eta 0:00:01\r\u001b[K     |████████████▌                   | 542 kB 13.8 MB/s eta 0:00:01\r\u001b[K     |████████████▊                   | 552 kB 13.8 MB/s eta 0:00:01\r\u001b[K     |█████████████                   | 563 kB 13.8 MB/s eta 0:00:01\r\u001b[K     |█████████████▎                  | 573 kB 13.8 MB/s eta 0:00:01\r\u001b[K     |█████████████▌                  | 583 kB 13.8 MB/s eta 0:00:01\r\u001b[K     |█████████████▊                  | 593 kB 13.8 MB/s eta 0:00:01\r\u001b[K     |██████████████                  | 604 kB 13.8 MB/s eta 0:00:01\r\u001b[K     |██████████████▏                 | 614 kB 13.8 MB/s eta 0:00:01\r\u001b[K     |██████████████▍                 | 624 kB 13.8 MB/s eta 0:00:01\r\u001b[K     |██████████████▋                 | 634 kB 13.8 MB/s eta 0:00:01\r\u001b[K     |███████████████                 | 645 kB 13.8 MB/s eta 0:00:01\r\u001b[K     |███████████████▏                | 655 kB 13.8 MB/s eta 0:00:01\r\u001b[K     |███████████████▍                | 665 kB 13.8 MB/s eta 0:00:01\r\u001b[K     |███████████████▋                | 675 kB 13.8 MB/s eta 0:00:01\r\u001b[K     |███████████████▉                | 686 kB 13.8 MB/s eta 0:00:01\r\u001b[K     |████████████████                | 696 kB 13.8 MB/s eta 0:00:01\r\u001b[K     |████████████████▎               | 706 kB 13.8 MB/s eta 0:00:01\r\u001b[K     |████████████████▋               | 716 kB 13.8 MB/s eta 0:00:01\r\u001b[K     |████████████████▉               | 727 kB 13.8 MB/s eta 0:00:01\r\u001b[K     |█████████████████               | 737 kB 13.8 MB/s eta 0:00:01\r\u001b[K     |█████████████████▎              | 747 kB 13.8 MB/s eta 0:00:01\r\u001b[K     |█████████████████▌              | 757 kB 13.8 MB/s eta 0:00:01\r\u001b[K     |█████████████████▊              | 768 kB 13.8 MB/s eta 0:00:01\r\u001b[K     |██████████████████              | 778 kB 13.8 MB/s eta 0:00:01\r\u001b[K     |██████████████████▏             | 788 kB 13.8 MB/s eta 0:00:01\r\u001b[K     |██████████████████▌             | 798 kB 13.8 MB/s eta 0:00:01\r\u001b[K     |██████████████████▊             | 808 kB 13.8 MB/s eta 0:00:01\r\u001b[K     |███████████████████             | 819 kB 13.8 MB/s eta 0:00:01\r\u001b[K     |███████████████████▏            | 829 kB 13.8 MB/s eta 0:00:01\r\u001b[K     |███████████████████▍            | 839 kB 13.8 MB/s eta 0:00:01\r\u001b[K     |███████████████████▋            | 849 kB 13.8 MB/s eta 0:00:01\r\u001b[K     |███████████████████▉            | 860 kB 13.8 MB/s eta 0:00:01\r\u001b[K     |████████████████████            | 870 kB 13.8 MB/s eta 0:00:01\r\u001b[K     |████████████████████▍           | 880 kB 13.8 MB/s eta 0:00:01\r\u001b[K     |████████████████████▋           | 890 kB 13.8 MB/s eta 0:00:01\r\u001b[K     |████████████████████▉           | 901 kB 13.8 MB/s eta 0:00:01\r\u001b[K     |█████████████████████           | 911 kB 13.8 MB/s eta 0:00:01\r\u001b[K     |█████████████████████▎          | 921 kB 13.8 MB/s eta 0:00:01\r\u001b[K     |█████████████████████▌          | 931 kB 13.8 MB/s eta 0:00:01\r\u001b[K     |█████████████████████▊          | 942 kB 13.8 MB/s eta 0:00:01\r\u001b[K     |██████████████████████          | 952 kB 13.8 MB/s eta 0:00:01\r\u001b[K     |██████████████████████▎         | 962 kB 13.8 MB/s eta 0:00:01\r\u001b[K     |██████████████████████▌         | 972 kB 13.8 MB/s eta 0:00:01\r\u001b[K     |██████████████████████▊         | 983 kB 13.8 MB/s eta 0:00:01\r\u001b[K     |███████████████████████         | 993 kB 13.8 MB/s eta 0:00:01\r\u001b[K     |███████████████████████▏        | 1.0 MB 13.8 MB/s eta 0:00:01\r\u001b[K     |███████████████████████▍        | 1.0 MB 13.8 MB/s eta 0:00:01\r\u001b[K     |███████████████████████▋        | 1.0 MB 13.8 MB/s eta 0:00:01\r\u001b[K     |████████████████████████        | 1.0 MB 13.8 MB/s eta 0:00:01\r\u001b[K     |████████████████████████▏       | 1.0 MB 13.8 MB/s eta 0:00:01\r\u001b[K     |████████████████████████▍       | 1.1 MB 13.8 MB/s eta 0:00:01\r\u001b[K     |████████████████████████▋       | 1.1 MB 13.8 MB/s eta 0:00:01\r\u001b[K     |████████████████████████▉       | 1.1 MB 13.8 MB/s eta 0:00:01\r\u001b[K     |█████████████████████████       | 1.1 MB 13.8 MB/s eta 0:00:01\r\u001b[K     |█████████████████████████▎      | 1.1 MB 13.8 MB/s eta 0:00:01\r\u001b[K     |█████████████████████████▌      | 1.1 MB 13.8 MB/s eta 0:00:01\r\u001b[K     |█████████████████████████▉      | 1.1 MB 13.8 MB/s eta 0:00:01\r\u001b[K     |██████████████████████████      | 1.1 MB 13.8 MB/s eta 0:00:01\r\u001b[K     |██████████████████████████▎     | 1.1 MB 13.8 MB/s eta 0:00:01\r\u001b[K     |██████████████████████████▌     | 1.1 MB 13.8 MB/s eta 0:00:01\r\u001b[K     |██████████████████████████▊     | 1.2 MB 13.8 MB/s eta 0:00:01\r\u001b[K     |███████████████████████████     | 1.2 MB 13.8 MB/s eta 0:00:01\r\u001b[K     |███████████████████████████▏    | 1.2 MB 13.8 MB/s eta 0:00:01\r\u001b[K     |███████████████████████████▍    | 1.2 MB 13.8 MB/s eta 0:00:01\r\u001b[K     |███████████████████████████▊    | 1.2 MB 13.8 MB/s eta 0:00:01\r\u001b[K     |████████████████████████████    | 1.2 MB 13.8 MB/s eta 0:00:01\r\u001b[K     |████████████████████████████▏   | 1.2 MB 13.8 MB/s eta 0:00:01\r\u001b[K     |████████████████████████████▍   | 1.2 MB 13.8 MB/s eta 0:00:01\r\u001b[K     |████████████████████████████▋   | 1.2 MB 13.8 MB/s eta 0:00:01\r\u001b[K     |████████████████████████████▉   | 1.2 MB 13.8 MB/s eta 0:00:01\r\u001b[K     |█████████████████████████████   | 1.3 MB 13.8 MB/s eta 0:00:01\r\u001b[K     |█████████████████████████████▎  | 1.3 MB 13.8 MB/s eta 0:00:01\r\u001b[K     |█████████████████████████████▋  | 1.3 MB 13.8 MB/s eta 0:00:01\r\u001b[K     |█████████████████████████████▉  | 1.3 MB 13.8 MB/s eta 0:00:01\r\u001b[K     |██████████████████████████████  | 1.3 MB 13.8 MB/s eta 0:00:01\r\u001b[K     |██████████████████████████████▎ | 1.3 MB 13.8 MB/s eta 0:00:01\r\u001b[K     |██████████████████████████████▌ | 1.3 MB 13.8 MB/s eta 0:00:01\r\u001b[K     |██████████████████████████████▊ | 1.3 MB 13.8 MB/s eta 0:00:01\r\u001b[K     |███████████████████████████████ | 1.3 MB 13.8 MB/s eta 0:00:01\r\u001b[K     |███████████████████████████████▎| 1.4 MB 13.8 MB/s eta 0:00:01\r\u001b[K     |███████████████████████████████▌| 1.4 MB 13.8 MB/s eta 0:00:01\r\u001b[K     |███████████████████████████████▊| 1.4 MB 13.8 MB/s eta 0:00:01\r\u001b[K     |████████████████████████████████| 1.4 MB 13.8 MB/s eta 0:00:01\r\u001b[K     |████████████████████████████████| 1.4 MB 13.8 MB/s \n",
            "\u001b[?25hRequirement already satisfied: Cython!=0.29.18,>=0.29 in /usr/local/lib/python3.7/dist-packages (from pmdarima) (0.29.28)\n",
            "Collecting statsmodels!=0.12.0,>=0.11\n",
            "  Downloading statsmodels-0.13.2-cp37-cp37m-manylinux_2_17_x86_64.manylinux2014_x86_64.whl (9.8 MB)\n",
            "\u001b[K     |████████████████████████████████| 9.8 MB 44.6 MB/s \n",
            "\u001b[?25hRequirement already satisfied: pandas>=0.19 in /usr/local/lib/python3.7/dist-packages (from pmdarima) (1.3.5)\n",
            "Requirement already satisfied: setuptools!=50.0.0,>=38.6.0 in /usr/local/lib/python3.7/dist-packages (from pmdarima) (57.4.0)\n",
            "Requirement already satisfied: numpy>=1.19.3 in /usr/local/lib/python3.7/dist-packages (from pmdarima) (1.21.6)\n",
            "Requirement already satisfied: scipy>=1.3.2 in /usr/local/lib/python3.7/dist-packages (from pmdarima) (1.4.1)\n",
            "Requirement already satisfied: joblib>=0.11 in /usr/local/lib/python3.7/dist-packages (from pmdarima) (1.1.0)\n",
            "Requirement already satisfied: urllib3 in /usr/local/lib/python3.7/dist-packages (from pmdarima) (1.24.3)\n",
            "Requirement already satisfied: scikit-learn>=0.22 in /usr/local/lib/python3.7/dist-packages (from pmdarima) (1.0.2)\n",
            "Requirement already satisfied: python-dateutil>=2.7.3 in /usr/local/lib/python3.7/dist-packages (from pandas>=0.19->pmdarima) (2.8.2)\n",
            "Requirement already satisfied: pytz>=2017.3 in /usr/local/lib/python3.7/dist-packages (from pandas>=0.19->pmdarima) (2022.1)\n",
            "Requirement already satisfied: six>=1.5 in /usr/local/lib/python3.7/dist-packages (from python-dateutil>=2.7.3->pandas>=0.19->pmdarima) (1.15.0)\n",
            "Requirement already satisfied: threadpoolctl>=2.0.0 in /usr/local/lib/python3.7/dist-packages (from scikit-learn>=0.22->pmdarima) (3.1.0)\n",
            "Requirement already satisfied: packaging>=21.3 in /usr/local/lib/python3.7/dist-packages (from statsmodels!=0.12.0,>=0.11->pmdarima) (21.3)\n",
            "Requirement already satisfied: patsy>=0.5.2 in /usr/local/lib/python3.7/dist-packages (from statsmodels!=0.12.0,>=0.11->pmdarima) (0.5.2)\n",
            "Requirement already satisfied: pyparsing!=3.0.5,>=2.0.2 in /usr/local/lib/python3.7/dist-packages (from packaging>=21.3->statsmodels!=0.12.0,>=0.11->pmdarima) (3.0.8)\n",
            "Installing collected packages: statsmodels, pmdarima\n",
            "  Attempting uninstall: statsmodels\n",
            "    Found existing installation: statsmodels 0.10.2\n",
            "    Uninstalling statsmodels-0.10.2:\n",
            "      Successfully uninstalled statsmodels-0.10.2\n",
            "Successfully installed pmdarima-1.8.5 statsmodels-0.13.2\n"
          ]
        }
      ],
      "source": [
        "!pip install pmdarima #Arima"
      ]
    },
    {
      "cell_type": "markdown",
      "metadata": {
        "id": "61cQCYdGacgm"
      },
      "source": [
        "## **Librerías**"
      ]
    },
    {
      "cell_type": "code",
      "execution_count": 2,
      "metadata": {
        "id": "9ES41cW5Z1MX",
        "colab": {
          "base_uri": "https://localhost:8080/",
          "height": 428
        },
        "outputId": "08aeec3a-c520-49b7-97a9-0ab30cb3d59f"
      },
      "outputs": [
        {
          "output_type": "stream",
          "name": "stderr",
          "text": [
            "/usr/local/lib/python3.7/dist-packages/statsmodels/tools/_testing.py:19: FutureWarning: pandas.util.testing is deprecated. Use the functions in the public API at pandas.testing instead.\n",
            "  import pandas.util.testing as tm\n"
          ]
        },
        {
          "output_type": "error",
          "ename": "ModuleNotFoundError",
          "evalue": "ignored",
          "traceback": [
            "\u001b[0;31m---------------------------------------------------------------------------\u001b[0m",
            "\u001b[0;31mModuleNotFoundError\u001b[0m                       Traceback (most recent call last)",
            "\u001b[0;32m<ipython-input-2-430d68b9d95f>\u001b[0m in \u001b[0;36m<module>\u001b[0;34m()\u001b[0m\n\u001b[1;32m     12\u001b[0m \u001b[0;32mfrom\u001b[0m \u001b[0mkeras\u001b[0m\u001b[0;34m.\u001b[0m\u001b[0mlayers\u001b[0m \u001b[0;32mimport\u001b[0m \u001b[0mDense\u001b[0m\u001b[0;34m\u001b[0m\u001b[0;34m\u001b[0m\u001b[0m\n\u001b[1;32m     13\u001b[0m \u001b[0;32mfrom\u001b[0m \u001b[0mkeras\u001b[0m\u001b[0;34m.\u001b[0m\u001b[0mmodels\u001b[0m \u001b[0;32mimport\u001b[0m \u001b[0mSequential\u001b[0m\u001b[0;34m\u001b[0m\u001b[0;34m\u001b[0m\u001b[0m\n\u001b[0;32m---> 14\u001b[0;31m \u001b[0;32mfrom\u001b[0m \u001b[0mpmdarima\u001b[0m\u001b[0;34m.\u001b[0m\u001b[0marima\u001b[0m \u001b[0;32mimport\u001b[0m \u001b[0mauto_arima\u001b[0m\u001b[0;34m\u001b[0m\u001b[0;34m\u001b[0m\u001b[0m\n\u001b[0m\u001b[1;32m     15\u001b[0m \u001b[0;32mfrom\u001b[0m \u001b[0msklearn\u001b[0m\u001b[0;34m.\u001b[0m\u001b[0mpreprocessing\u001b[0m \u001b[0;32mimport\u001b[0m \u001b[0mMinMaxScaler\u001b[0m\u001b[0;34m\u001b[0m\u001b[0;34m\u001b[0m\u001b[0m\n\u001b[1;32m     16\u001b[0m \u001b[0;32mfrom\u001b[0m \u001b[0msklearn\u001b[0m\u001b[0;34m.\u001b[0m\u001b[0mmetrics\u001b[0m \u001b[0;32mimport\u001b[0m \u001b[0mmean_squared_error\u001b[0m\u001b[0;34m\u001b[0m\u001b[0;34m\u001b[0m\u001b[0m\n",
            "\u001b[0;31mModuleNotFoundError\u001b[0m: No module named 'pmdarima'",
            "",
            "\u001b[0;31m---------------------------------------------------------------------------\u001b[0;32m\nNOTE: If your import is failing due to a missing package, you can\nmanually install dependencies using either !pip or !apt.\n\nTo view examples of installing some common dependencies, click the\n\"Open Examples\" button below.\n\u001b[0;31m---------------------------------------------------------------------------\u001b[0m\n"
          ],
          "errorDetails": {
            "actions": [
              {
                "action": "open_url",
                "actionText": "Open Examples",
                "url": "/notebooks/snippets/importing_libraries.ipynb"
              }
            ]
          }
        }
      ],
      "source": [
        "from google.colab import drive\n",
        "import os\n",
        "import pandas as pd\n",
        "import numpy as np\n",
        "import seaborn as sns\n",
        "import matplotlib.pyplot as plt\n",
        "import statsmodels.tsa.stattools as sts\n",
        "import statsmodels.api as sm\n",
        "\n",
        "from datetime import datetime\n",
        "from keras.layers import LSTM\n",
        "from keras.layers import Dense\n",
        "from keras.models import Sequential\n",
        "from pmdarima.arima import auto_arima\n",
        "from sklearn.preprocessing import MinMaxScaler\n",
        "from sklearn.metrics import mean_squared_error\n",
        "from statsmodels.tsa.seasonal import seasonal_decompose"
      ]
    },
    {
      "cell_type": "markdown",
      "source": [
        "## **Crear Punto de Montaje**"
      ],
      "metadata": {
        "id": "3TEkgZ5gZf5c"
      }
    },
    {
      "cell_type": "code",
      "source": [
        "drive.mount('/content/drive')"
      ],
      "metadata": {
        "colab": {
          "base_uri": "https://localhost:8080/"
        },
        "id": "zizxeqBMZflQ",
        "outputId": "5755c921-69cf-4b7c-ca02-ff098040a28d"
      },
      "execution_count": 3,
      "outputs": [
        {
          "output_type": "stream",
          "name": "stdout",
          "text": [
            "Mounted at /content/drive\n"
          ]
        }
      ]
    },
    {
      "cell_type": "code",
      "source": [
        "%cd /content/drive/MyDrive/monografia_UDEA"
      ],
      "metadata": {
        "colab": {
          "base_uri": "https://localhost:8080/"
        },
        "id": "liTrJ0767pf-",
        "outputId": "632655b3-9f81-4349-e447-4476911f8ab1"
      },
      "execution_count": 4,
      "outputs": [
        {
          "output_type": "stream",
          "name": "stdout",
          "text": [
            "/content/drive/MyDrive/monografia_UDEA\n"
          ]
        }
      ]
    },
    {
      "cell_type": "markdown",
      "metadata": {
        "id": "5LMhhHwLdShW"
      },
      "source": [
        "## **Carga de archivo fuentes**"
      ]
    },
    {
      "cell_type": "markdown",
      "metadata": {
        "id": "aOVMMAAlsHHE"
      },
      "source": [
        "Se realiza el proceso de carga de los archivos correspondiente a cada moneda de análisis"
      ]
    },
    {
      "cell_type": "code",
      "execution_count": 6,
      "metadata": {
        "id": "fDnz9fYcq6al"
      },
      "outputs": [],
      "source": [
        "path = 'Dataset'\n",
        "\n",
        "tether = pd.read_csv(f\"{path}/coin_Tether.csv\")\n",
        "bitcoin = pd.read_csv(f\"{path}/coin_Bitcoin.csv\")\n",
        "cardano = pd.read_csv(f\"{path}/coin_Cardano.csv\")\n",
        "ethereum = pd.read_csv (f\"{path}/coin_Ethereum.csv\")\n",
        "binance = pd.read_csv(f\"{path}/coin_BinanceCoin.csv\")"
      ]
    },
    {
      "cell_type": "code",
      "source": [
        ""
      ],
      "metadata": {
        "id": "fOEjuwYZEI2t"
      },
      "execution_count": null,
      "outputs": []
    }
  ],
  "metadata": {
    "colab": {
      "collapsed_sections": [],
      "name": "configuracion_entorno.ipynb",
      "provenance": []
    },
    "kernelspec": {
      "display_name": "Python 3",
      "name": "python3"
    },
    "language_info": {
      "name": "python"
    }
  },
  "nbformat": 4,
  "nbformat_minor": 0
}